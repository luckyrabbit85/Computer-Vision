{
 "cells": [
  {
   "cell_type": "markdown",
   "id": "a898f590",
   "metadata": {},
   "source": [
    "# ResNext\n",
    "\n",
    "After ResNet, Lets talk about ResNeXt which is designed for image classification. To improve accuracy, we may stack more layers or use widen layers but the problem is more parameters are introduced as well. Eventually, more computational power is required. Therefore, Xie et al., propose a new architecture that improving accuracy while reducing network complexity and the number of parameters.\n",
    "\n",
    "\n",
    "**Architecture** - Aggregated Residual Transformations for Deep Neural Networks (Xie et al., 2016)\n",
    "\n",
    "Inherited from ResNet, VGG, and Inception, ResNeXt includes shortcuts from the previous block to next block, stacking layers and adapting split-transform-merge strategy.\n",
    "\n",
    "+ ResNet: Introducing a shortcut from the previous layer to the next layer\n",
    "+ VGG: Leveraging repeating layers to build a deep architecture model\n",
    "+ Inception: Following split-transform-merge practise to split the input to multiple blocks and merging blocks later on.\n",
    "+ ResNeXt: The principle is stacking the same topology blocks. Within the residual block, hyper-parameters (width and filter sizes) are shared.\n",
    "\n",
    "![](./fig/resnext.png)\n",
    "\n",
    "`Cardinality` is introduced by authors. It means the size of the set of transformations. Refer to the following figure, the architecture includes 32 same topology blocks so the value of cardinality is 32. Because of using the same topology, fewer parameters are required while more layers are added into this architecture.\n",
    "\n",
    "![](./fig/resnext2.png)\n",
    "![](./fig/resnext3.png)\n",
    "\n",
    "In the above figure the three ResNeXt blocks are equivalent.\n",
    "\n",
    "Point to Note:\n",
    "  \n",
    "+ Same as ResNet, having shortcuts but ResNeXt has a much parallel stacking layer rather than sequential layers.\n",
    "+ Similar to Inception module, ResNeXt follows a split-transform-merge strategy but ResNeXt shares hyper-parameters while Inception has a different filter and size for each individual block.\n",
    "+ Increasing cardinality lead to better result while keeping architecture complexity."
   ]
  },
  {
   "cell_type": "code",
   "execution_count": null,
   "id": "9c6e5c3d",
   "metadata": {},
   "outputs": [],
   "source": []
  }
 ],
 "metadata": {
  "kernelspec": {
   "display_name": "Python 3",
   "language": "python",
   "name": "python3"
  },
  "language_info": {
   "codemirror_mode": {
    "name": "ipython",
    "version": 3
   },
   "file_extension": ".py",
   "mimetype": "text/x-python",
   "name": "python",
   "nbconvert_exporter": "python",
   "pygments_lexer": "ipython3",
   "version": "3.8.8"
  }
 },
 "nbformat": 4,
 "nbformat_minor": 5
}
