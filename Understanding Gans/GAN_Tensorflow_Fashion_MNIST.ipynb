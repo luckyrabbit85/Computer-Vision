{
  "nbformat": 4,
  "nbformat_minor": 0,
  "metadata": {
    "colab": {
      "name": "GAN_Tensorflow_Fashion_MNIST.ipynb",
      "provenance": [],
      "collapsed_sections": []
    },
    "kernelspec": {
      "name": "python3",
      "display_name": "Python 3"
    },
    "language_info": {
      "name": "python"
    },
    "accelerator": "GPU"
  },
  "cells": [
    {
      "cell_type": "code",
      "metadata": {
        "id": "kqZC_etA_C66"
      },
      "source": [
        "# Import the required packages\n",
        "import os\n",
        "import time\n",
        "import numpy as np\n",
        "import tensorflow as tf\n",
        "from tensorflow import keras\n",
        "from tensorflow.keras import layers\n",
        "from IPython import display\n",
        "import matplotlib.pyplot as plt\n",
        "%matplotlib inline"
      ],
      "execution_count": 1,
      "outputs": []
    },
    {
      "cell_type": "code",
      "metadata": {
        "id": "RkSwZi8sDeUK"
      },
      "source": [
        "BATCH_SIZE = 256\n",
        "LEARNING_RATE = 2e-4 \n",
        "BETA_1 = 0.5\n",
        "BETA_2 = 0.999\n",
        "EPOCHS = 500\n",
        "LATENT_DIMENSION = 100\n",
        "IMAGE_HEIGHT = 128\n",
        "IMAGE_WIDTH = 128\n",
        "CHANNELS = 1\n",
        "NUM_EXAMPLES_TO_GENERATE = 25\n",
        "IMG_DIMENSION = 784"
      ],
      "execution_count": 2,
      "outputs": []
    },
    {
      "cell_type": "markdown",
      "metadata": {
        "id": "TkIzX8YyQ0LX"
      },
      "source": [
        "### Dataset\n",
        "\n",
        "We will use the famous Fashion-MNIST dataset for this purpose.\n",
        "\n",
        "The Fashion-MNIST dataset consists of:\n",
        "+ Database of 60,000 fashion images shown on the right.\n",
        "+ Each image of size 28×28 ( grayscale ) is associated with a label from 10 categories like t-shirt, trouser, sneaker, etc.\n",
        "\n",
        "The images are normalized, using the mean and standard deviation of 0.5. Note that there is one value for both as we are dealing with a grayscale image here. The normalization maps pixel values from [0, 255] to [-1, 1]. The range [-1, 1] is preferred, having proven useful for training GANs. "
      ]
    },
    {
      "cell_type": "code",
      "metadata": {
        "id": "J2d6yA5cAFck",
        "colab": {
          "base_uri": "https://localhost:8080/"
        },
        "outputId": "45894264-bca1-4e64-b970-dd3684b08d28"
      },
      "source": [
        "(x_train, y_train), (x_test, y_test) = tf.keras.datasets.fashion_mnist.load_data()\n",
        "x_train = x_train.reshape(x_train.shape[0], 28, 28, 1).astype('float32')\n",
        "\n",
        "# Normalize the images to [-1, 1]\n",
        "x_train = (x_train - 127.5) / 127.5 \n",
        "\n",
        "# Batch and shuffle the data\n",
        "train_dataset = tf.data.Dataset.from_tensor_slices(x_train).shuffle(60000).batch(BATCH_SIZE)"
      ],
      "execution_count": 3,
      "outputs": [
        {
          "output_type": "stream",
          "name": "stdout",
          "text": [
            "Downloading data from https://storage.googleapis.com/tensorflow/tf-keras-datasets/train-labels-idx1-ubyte.gz\n",
            "32768/29515 [=================================] - 0s 0us/step\n",
            "40960/29515 [=========================================] - 0s 0us/step\n",
            "Downloading data from https://storage.googleapis.com/tensorflow/tf-keras-datasets/train-images-idx3-ubyte.gz\n",
            "26427392/26421880 [==============================] - 0s 0us/step\n",
            "26435584/26421880 [==============================] - 0s 0us/step\n",
            "Downloading data from https://storage.googleapis.com/tensorflow/tf-keras-datasets/t10k-labels-idx1-ubyte.gz\n",
            "16384/5148 [===============================================================================================] - 0s 0us/step\n",
            "Downloading data from https://storage.googleapis.com/tensorflow/tf-keras-datasets/t10k-images-idx3-ubyte.gz\n",
            "4423680/4422102 [==============================] - 0s 0us/step\n",
            "4431872/4422102 [==============================] - 0s 0us/step\n"
          ]
        }
      ]
    },
    {
      "cell_type": "code",
      "metadata": {
        "colab": {
          "base_uri": "https://localhost:8080/"
        },
        "id": "MtdML0A7xLJo",
        "outputId": "4cde8720-7ac7-4802-d607-046f3e012b41"
      },
      "source": [
        "x_train.shape"
      ],
      "execution_count": 4,
      "outputs": [
        {
          "output_type": "execute_result",
          "data": {
            "text/plain": [
              "(60000, 28, 28, 1)"
            ]
          },
          "metadata": {},
          "execution_count": 4
        }
      ]
    },
    {
      "cell_type": "code",
      "metadata": {
        "colab": {
          "base_uri": "https://localhost:8080/"
        },
        "id": "LJGZYiFmzW9Q",
        "outputId": "57e63b11-d4f2-49a4-d314-4345c592d994"
      },
      "source": [
        "seed = tf.random.normal([NUM_EXAMPLES_TO_GENERATE, LATENT_DIMENSION])\n",
        "seed"
      ],
      "execution_count": 5,
      "outputs": [
        {
          "output_type": "execute_result",
          "data": {
            "text/plain": [
              "<tf.Tensor: shape=(25, 100), dtype=float32, numpy=\n",
              "array([[ 1.6145681 ,  2.159317  ,  0.382746  , ..., -1.3452717 ,\n",
              "         1.6454488 , -0.5382172 ],\n",
              "       [ 0.46382987, -0.6011623 ,  1.6834977 , ...,  0.7811916 ,\n",
              "        -0.39126545,  0.34405053],\n",
              "       [-0.7755715 ,  0.10278528,  0.7331659 , ..., -1.6995662 ,\n",
              "         1.4900794 ,  0.2810321 ],\n",
              "       ...,\n",
              "       [ 0.8898312 ,  0.8335726 , -0.10427468, ...,  0.4443857 ,\n",
              "         0.8455727 ,  0.2709745 ],\n",
              "       [ 1.8400401 , -1.3749632 , -0.13825922, ..., -0.64712083,\n",
              "         2.0789573 , -0.32636952],\n",
              "       [ 0.01633413,  1.576542  ,  0.085963  , ...,  0.35288215,\n",
              "        -0.27488324, -2.2804568 ]], dtype=float32)>"
            ]
          },
          "metadata": {},
          "execution_count": 5
        }
      ]
    },
    {
      "cell_type": "markdown",
      "metadata": {
        "id": "pixMivz7Vssv"
      },
      "source": [
        "### Generator Network\n",
        "\n",
        "The Generator is a fully connected network that takes a noise vector ( latent_dim ) as an input and outputs a 784-dimensional vector. Consider the generator as a decoder fed with a low-dimensional vector ( 100-d ) and outputs an upsampled high-dimensional vector ( 784-d ).\n",
        "\n",
        "The network mainly consists of dense layers, leakyrelu & tanh activation function and batchnorm1d layers.\n",
        "\n",
        "+ The first layer has 128 neurons, doubled at every new linear layer, upto 1024 neurons.\n",
        "\n",
        "+ Leaky ReLU has been used as the activation function in this network for the intermediate layers with a negative slope as 0.2, meaning the features with a value below -0.2 will be squashed to 0.\n",
        "\n",
        "+ BatchNorm1d is also used to normalize the intermediate feature vectors with an eps of 0.8 for numerical stability. Default: 1e-5.\n",
        "\n",
        "+ The tanh activation at the output layer ensures that the pixel values are mapped in line with its own output, i.e., between (-1, 1) (remember, we normalized the images to range [-1, 1])."
      ]
    },
    {
      "cell_type": "code",
      "metadata": {
        "id": "me5ljlolAcOb"
      },
      "source": [
        "def generator(IMG_DIMENSION):    \n",
        "    inputs = keras.Input(shape=(100,), name='input_layer')\n",
        "    x = layers.Dense(128, kernel_initializer=tf.keras.initializers.he_uniform, name='dense_1')(inputs)\n",
        "    x = layers.LeakyReLU(0.2, name='leaky_relu_1')(x)\n",
        "    x = layers.Dense(256, kernel_initializer=tf.keras.initializers.he_uniform, name='dense_2')(x) \n",
        "    x = layers.BatchNormalization(momentum=0.1,  epsilon=0.8, name='bn_1')(x)\n",
        "    x = layers.LeakyReLU(0.2, name='leaky_relu_2')(x)\n",
        "    x = layers.Dense(512, kernel_initializer=tf.keras.initializers.he_uniform, name='dense_3')(x) \n",
        "    x = layers.BatchNormalization(momentum=0.1,  epsilon=0.8, name='bn_2')(x)\n",
        "    x = layers.LeakyReLU(0.2, name='leaky_relu_3')(x)\n",
        "    x = layers.Dense(1024, kernel_initializer=tf.keras.initializers.he_uniform,  name='dense_4')(x) \n",
        "    x = layers.BatchNormalization(momentum=0.1,  epsilon=0.8, name='bn_3')(x)\n",
        "    x = layers.LeakyReLU(0.2, name='leaky_relu_4')(x)\n",
        "    x = layers.Dense(IMG_DIMENSION, kernel_initializer=tf.keras.initializers.he_uniform, activation='tanh',  name='dense_5')(x) \n",
        "    outputs = tf.reshape(x, [-1, 28, 28, 1], name='Reshape_Layer')\n",
        "    model = tf.keras.Model(inputs, outputs, name=\"Generator\")\n",
        "    return model"
      ],
      "execution_count": 6,
      "outputs": []
    },
    {
      "cell_type": "code",
      "metadata": {
        "id": "anSg776f0MBh"
      },
      "source": [
        "generator = generator(IMG_DIMENSION)"
      ],
      "execution_count": 7,
      "outputs": []
    },
    {
      "cell_type": "code",
      "metadata": {
        "colab": {
          "base_uri": "https://localhost:8080/"
        },
        "id": "EO27UzjY03EH",
        "outputId": "69cd754b-cf0b-4a75-82fc-ded232c4b135"
      },
      "source": [
        "generator.summary()"
      ],
      "execution_count": 8,
      "outputs": [
        {
          "output_type": "stream",
          "name": "stdout",
          "text": [
            "Model: \"Generator\"\n",
            "_________________________________________________________________\n",
            "Layer (type)                 Output Shape              Param #   \n",
            "=================================================================\n",
            "input_layer (InputLayer)     [(None, 100)]             0         \n",
            "_________________________________________________________________\n",
            "dense_1 (Dense)              (None, 128)               12928     \n",
            "_________________________________________________________________\n",
            "leaky_relu_1 (LeakyReLU)     (None, 128)               0         \n",
            "_________________________________________________________________\n",
            "dense_2 (Dense)              (None, 256)               33024     \n",
            "_________________________________________________________________\n",
            "bn_1 (BatchNormalization)    (None, 256)               1024      \n",
            "_________________________________________________________________\n",
            "leaky_relu_2 (LeakyReLU)     (None, 256)               0         \n",
            "_________________________________________________________________\n",
            "dense_3 (Dense)              (None, 512)               131584    \n",
            "_________________________________________________________________\n",
            "bn_2 (BatchNormalization)    (None, 512)               2048      \n",
            "_________________________________________________________________\n",
            "leaky_relu_3 (LeakyReLU)     (None, 512)               0         \n",
            "_________________________________________________________________\n",
            "dense_4 (Dense)              (None, 1024)              525312    \n",
            "_________________________________________________________________\n",
            "bn_3 (BatchNormalization)    (None, 1024)              4096      \n",
            "_________________________________________________________________\n",
            "leaky_relu_4 (LeakyReLU)     (None, 1024)              0         \n",
            "_________________________________________________________________\n",
            "dense_5 (Dense)              (None, 784)               803600    \n",
            "_________________________________________________________________\n",
            "tf.reshape (TFOpLambda)      (None, 28, 28, 1)         0         \n",
            "=================================================================\n",
            "Total params: 1,513,616\n",
            "Trainable params: 1,510,032\n",
            "Non-trainable params: 3,584\n",
            "_________________________________________________________________\n"
          ]
        }
      ]
    },
    {
      "cell_type": "markdown",
      "metadata": {
        "id": "n6qI8sGWh7V5"
      },
      "source": [
        "### Discriminator Network\n",
        "\n",
        "The discriminator is a binary classifier consisting of only fully-connected layers. It is a simpler model, with less layers than the generator.\n",
        "\n",
        "the sequential-discriminator model is as follows:\n",
        "\n",
        "+ Inputs the flattened image of dimension 784, and outputs a score between 0 and 1. \n",
        "+ Has Leaky Relu in the intermediate layers \n",
        "+ Has the Sigmoid activation function in the output layer\n",
        "+ The forward function of the discriminator flattens the input feeds from the vector to the discriminator, and returns the result, indicating whether the image is real or fake."
      ]
    },
    {
      "cell_type": "code",
      "metadata": {
        "id": "aAFU7-QVa_Ib"
      },
      "source": [
        "def discriminator():\n",
        "    inputs = keras.Input(shape=(28,28,1), name='input_layer')\n",
        "    input = tf.reshape(inputs, [-1, 784], name='reshape_layer')\n",
        "    x = layers.Dense(512, kernel_initializer=tf.keras.initializers.he_uniform, name='dense_1')(input)\n",
        "    x = layers.LeakyReLU(0.2, name='leaky_relu_1')(x)\n",
        "    x = layers.Dense(256, kernel_initializer=tf.keras.initializers.he_uniform, name='dense_2')(x) \n",
        "    x = layers.LeakyReLU(0.2, name='leaky_relu_2')(x)\n",
        "    outputs = layers.Dense(1, kernel_initializer=tf.keras.initializers.he_uniform, activation='sigmoid', name='dense_3')(x) \n",
        "    model = tf.keras.Model(inputs, outputs, name=\"Discriminator\")\n",
        "    return model"
      ],
      "execution_count": 9,
      "outputs": []
    },
    {
      "cell_type": "code",
      "metadata": {
        "id": "ts4uPgKm2McI"
      },
      "source": [
        "discriminator = discriminator()"
      ],
      "execution_count": 10,
      "outputs": []
    },
    {
      "cell_type": "code",
      "metadata": {
        "colab": {
          "base_uri": "https://localhost:8080/"
        },
        "id": "1Prs212w2PTv",
        "outputId": "f4e4518e-fe25-452e-f6d4-6ee1f13e004c"
      },
      "source": [
        "discriminator.summary()"
      ],
      "execution_count": 11,
      "outputs": [
        {
          "output_type": "stream",
          "name": "stdout",
          "text": [
            "Model: \"Discriminator\"\n",
            "_________________________________________________________________\n",
            "Layer (type)                 Output Shape              Param #   \n",
            "=================================================================\n",
            "input_layer (InputLayer)     [(None, 28, 28, 1)]       0         \n",
            "_________________________________________________________________\n",
            "tf.reshape_1 (TFOpLambda)    (None, 784)               0         \n",
            "_________________________________________________________________\n",
            "dense_1 (Dense)              (None, 512)               401920    \n",
            "_________________________________________________________________\n",
            "leaky_relu_1 (LeakyReLU)     (None, 512)               0         \n",
            "_________________________________________________________________\n",
            "dense_2 (Dense)              (None, 256)               131328    \n",
            "_________________________________________________________________\n",
            "leaky_relu_2 (LeakyReLU)     (None, 256)               0         \n",
            "_________________________________________________________________\n",
            "dense_3 (Dense)              (None, 1)                 257       \n",
            "=================================================================\n",
            "Total params: 533,505\n",
            "Trainable params: 533,505\n",
            "Non-trainable params: 0\n",
            "_________________________________________________________________\n"
          ]
        }
      ]
    },
    {
      "cell_type": "markdown",
      "metadata": {
        "id": "ZR7cdbWrKUmw"
      },
      "source": [
        "### Loss\n",
        "\n",
        "To model the objective of the generator and the discriminator, we will use the Binary Cross-Entropy loss function.\n",
        "\n",
        "$L(\\hat{y},y) = -\\frac{1}{N}\\sum_{i=1}^{N}[-y_{i} log(\\hat{y_{i}}) - (1 - y_{i}) log(1 - \\hat{y_{i}})]$"
      ]
    },
    {
      "cell_type": "code",
      "metadata": {
        "id": "_rdLiw9ka_F6"
      },
      "source": [
        "adversarial_loss = tf.keras.losses.BinaryCrossentropy()"
      ],
      "execution_count": 12,
      "outputs": []
    },
    {
      "cell_type": "markdown",
      "metadata": {
        "id": "uRvqooKtJaPQ"
      },
      "source": [
        "### Generator Loss\n",
        "\n",
        "Maximizing the probability D(G(z)) i.e. bringing it closer to 1.\n",
        "For this objective, i.e., to maximize the probability D(G(z)) by the discriminator, the true label y is 1, and the predicted output $\\hat{y}$ is D(G(z)). Putting these values in the BCE loss function, we get:\n",
        "\n",
        " \\begin{equation*}G_{loss} = - log D(G(z))\\end{equation*}\n",
        "\n",
        "The generator_loss function is fed the fake outputs produced by the discriminator, as the input to the discriminator was fake images (produced by the generator). \n",
        "\n",
        "Note: The generator_loss is calculated with labels as real_target ( 1 ) because you want the generator to fool the discriminator and produce real images."
      ]
    },
    {
      "cell_type": "code",
      "metadata": {
        "id": "EcdbgEIUbJpZ"
      },
      "source": [
        "def generator_loss(fake_output):\n",
        "    gen_loss = adversarial_loss(tf.ones_like(fake_output), fake_output)\n",
        "    return gen_loss"
      ],
      "execution_count": 13,
      "outputs": []
    },
    {
      "cell_type": "markdown",
      "metadata": {
        "id": "P7bwWhdANFoo"
      },
      "source": [
        "### Discriminator Loss\n",
        "\n",
        "For the first objective of the discriminator, i.e. to maximizing the probability $D(X_{real})$: the true label y is 1, and the predicted output $\\hat{y}$ is $D(X_{real})$. Putting these values in the BCE loss function equation 1, we get:\n",
        "\n",
        "\\begin{equation*}D_{loss_{real}} = - log D(X_{real})\\end{equation*}\n",
        "    \n",
        "For the second objective, i.e., to minimize the probability $D(X_{fake})$: the true label y is 0, and the predicted output $\\hat{y}$ is $D(X_{fake})$, where $X_{fake}$ is equal to $G(z)$. Putting these values in the BCE loss function, we get:\n",
        "\n",
        " \\begin{equation*}D_{loss_{fake}} = - log (1 - D(G(z))\\end{equation*}\n",
        "      \n",
        "\n",
        "Therefore, the cumulative Discriminator loss becomes:\n",
        "\n",
        "\\begin{equation*}D_{loss} = D_{loss_{real}} + D_{loss_{fake}}\\end{equation*}\n",
        "\\begin{equation*}D_{loss} = - log D(X_{real}) - log (1 - D(G(z))\\end{equation*}\n",
        "\n",
        "The discriminator loss is the sum of real and fake loss for its job is to differentiate between real images and those generated by the generator. Unlike the generator loss, here: \n",
        "\n",
        "+ The real (original images) output predictions label is 1\n",
        "+ Fake output predictions label is 0"
      ]
    },
    {
      "cell_type": "code",
      "metadata": {
        "id": "QDq77qgKbPEh"
      },
      "source": [
        "def discriminator_loss(real_output, fake_output):\n",
        "    real_loss = adversarial_loss(tf.ones_like(real_output), real_output)\n",
        "    fake_loss = adversarial_loss(tf.zeros_like(fake_output), fake_output)\n",
        "    total_loss = real_loss + fake_loss\n",
        "    return total_loss"
      ],
      "execution_count": 14,
      "outputs": []
    },
    {
      "cell_type": "markdown",
      "metadata": {
        "id": "7Gq2aJN5kcMu"
      },
      "source": [
        "### Optimization\n",
        "\n",
        "The generator and discriminator are both optimized with the Adam optimizer. \n",
        "\n",
        "Three arguments are passed to the optimizer:\n",
        "+ Generator and discriminator parameters, or weights to be optimized\n",
        "+ A learning rate of 2e-2\n",
        "+ Betas coefficients b1 & b2 for computing running averages of gradient during backpropagation"
      ]
    },
    {
      "cell_type": "code",
      "metadata": {
        "id": "Xd8XpyzmbTGJ"
      },
      "source": [
        "generator_optimizer = tf.keras.optimizers.Adam(learning_rate = LEARNING_RATE, beta_1 = BETA_1, beta_2 = BETA_2)\n",
        "discriminator_optimizer = tf.keras.optimizers.Adam(learning_rate = LEARNING_RATE, beta_1 = BETA_1, beta_2 = BETA_2)"
      ],
      "execution_count": 15,
      "outputs": []
    },
    {
      "cell_type": "markdown",
      "metadata": {
        "id": "MrsrsmQioGZZ"
      },
      "source": [
        "### Training\n",
        "\n",
        "In the training loop\n",
        "\n",
        "+ First, we sample the noise from a normal distribution and input it to the generator. \n",
        "+ The generator model then produces an image. \n",
        "+ We start by feeding the discriminator model real images. Then also input images produced by the generator model, which are classified as either real images (drawn from the training set) or fakes (produced by the generator). \n",
        "+ The loss is calculated for each of these models: gen_loss and disc_loss. \n",
        "After computing the gradients, the generator and discriminator parameters are updated, using the Adam optimizer.\n",
        "\n",
        "Taking the train_dataset and Epochs as the parameters, the above train function calls the train_step function, at every new batch."
      ]
    },
    {
      "cell_type": "code",
      "metadata": {
        "id": "9CrE525Rb6-T"
      },
      "source": [
        "# Notice the use of `tf.function`\n",
        "# This annotation causes the function to be \"compiled\" into callable Tensorflow Graph .\n",
        "\n",
        "@tf.function\n",
        "def train_step(images):\n",
        "    noise = tf.random.normal([BATCH_SIZE, LATENT_DIMENSION])\n",
        "    with tf.GradientTape() as gen_tape, tf.GradientTape() as disc_tape:\n",
        "        generated_images = generator(noise, training=True)\n",
        "        real_output = discriminator(images, training=True)\n",
        "        fake_output = discriminator(generated_images, training=True)\n",
        "        gen_loss = generator_loss(fake_output)\n",
        "        disc_loss = discriminator_loss(real_output, fake_output)\n",
        "    \n",
        "    # Computing the gradients of generator and discriminator\n",
        "    gradients_of_gen = gen_tape.gradient(gen_loss, generator.trainable_variables)\n",
        "    gradients_of_disc = disc_tape.gradient(disc_loss, discriminator.trainable_variables)\n",
        "    \n",
        "    # Updating generator and discriminator parameter\n",
        "    generator_optimizer.apply_gradients(zip(gradients_of_gen, generator.trainable_variables))\n",
        "    discriminator_optimizer.apply_gradients(zip(gradients_of_disc,discriminator.trainable_variables))                              "
      ],
      "execution_count": 16,
      "outputs": []
    },
    {
      "cell_type": "code",
      "metadata": {
        "id": "czjcoI7QcSNq"
      },
      "source": [
        "# make a directory to store generated images\n",
        "!mkdir generated_images_folder"
      ],
      "execution_count": 17,
      "outputs": []
    },
    {
      "cell_type": "code",
      "metadata": {
        "id": "ll2Sq5MGcdCS"
      },
      "source": [
        "import os\n",
        "checkpoint_dir = './training_checkpoints'\n",
        "checkpoint_prefix = os.path.join(checkpoint_dir, \"ckpt\")\n",
        "checkpoint = tf.train.Checkpoint(generator_optimizer=generator_optimizer,\n",
        "                                 discriminator_optimizer=discriminator_optimizer,\n",
        "                                 generator=generator,\n",
        "                                 discriminator=discriminator)"
      ],
      "execution_count": 18,
      "outputs": []
    },
    {
      "cell_type": "code",
      "metadata": {
        "id": "sngNasRXfTeB"
      },
      "source": [
        "def train(dataset, epochs):\n",
        "    for epoch in range(epochs):\n",
        "        start = time.time()\n",
        "        for image_batch in dataset:\n",
        "            train_step(image_batch)\n",
        "        display.clear_output(wait=True)\n",
        "        generate_and_save_images(generator, epoch + 1, seed)\n",
        "\n",
        "        # Save the model every 10 epochs\n",
        "        if (epoch + 1) % 10 == 0:\n",
        "            checkpoint.save(file_prefix = checkpoint_prefix)\n",
        "\n",
        "        print (f'Time for epoch {epoch+1} is {time.time() - start} sec')\n",
        "\n",
        "    # Generate after the final epoch\n",
        "    display.clear_output(wait=True)\n",
        "    generate_and_save_images(generator, epochs, seed)"
      ],
      "execution_count": 19,
      "outputs": []
    },
    {
      "cell_type": "code",
      "metadata": {
        "id": "_e81Mo7FqcvV"
      },
      "source": [
        "def generate_and_save_images(model, epoch, test_input):\n",
        "  # Notice `training` is set to False.\n",
        "  # This is so all layers run in inference mode (batchnorm).\n",
        "    predictions = model(test_input, training=False)\n",
        "    #print(predictions.shape)\n",
        "    fig = plt.figure(figsize=(4,4))\n",
        "\n",
        "    for i in range(predictions.shape[0]):\n",
        "        plt.subplot(5, 5, i+1)  \n",
        "        pred = (predictions[i, :, :, 0] + 1) * 127.5  \n",
        "        pred = np.array(pred)    \n",
        "        plt.imshow(pred.astype(np.uint8), cmap='gray')\n",
        "        plt.axis('off')\n",
        "\n",
        "    plt.savefig(f'generated_images_folder/image_at_epoch_{epoch}.png')\n",
        "    plt.show()"
      ],
      "execution_count": 20,
      "outputs": []
    },
    {
      "cell_type": "code",
      "metadata": {
        "colab": {
          "base_uri": "https://localhost:8080/",
          "height": 248
        },
        "id": "5P13NwIbqeMU",
        "outputId": "118a4b44-271e-4972-b8b1-8f8f1d0b79b8"
      },
      "source": [
        "train(train_dataset, EPOCHS)"
      ],
      "execution_count": 21,
      "outputs": [
        {
          "output_type": "display_data",
          "data": {
            "image/png": "[encoded data removed]",
            "text/plain": [
              "<Figure size 288x288 with 25 Axes>"
            ]
          },
          "metadata": {
            "needs_background": "light"
          }
        }
      ]
    }
  ]
}