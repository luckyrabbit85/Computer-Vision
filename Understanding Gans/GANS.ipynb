{
 "cells": [
  {
   "cell_type": "markdown",
   "id": "a29d7507",
   "metadata": {},
   "source": [
    "# GANS\n",
    "\n",
    "\n",
    "Generative Adversarial Networks (GANs) are Neural Networks that take random noise as input and generate outputs (e.g. a picture of a human face) that appear to be a sample from the distribution of the training set (e.g. set of other human faces).\n",
    "\n",
    "A GAN achieves this feat by training two models simultaneously\n",
    "\n",
    "+ A **generative model** that captures the distribution of the training set.\n",
    "+ A **discriminative model** estimates the probability that a sample came from the training data and not the generative model above.\n",
    "\n",
    "### Why GANs?\n",
    "+ If your training data is insufficient, no problem. GANs can learn about your data and generate synthetic images that augment your dataset.\n",
    "+ Can create images that look like photographs of human faces, even though the faces don’t belong to any real person from the given distribution. Isn’t that incredible?\n",
    "+ Generate images from descriptions (text to image synthesis). \n",
    "+ Improve the resolution of a video that captures finer details (low-resolution to high-resolution).\n",
    "+ Even in the audio domain, GANs can be used to produce synthetic, high-fidelity audio or perform voice translations.\n",
    "\n",
    "This is not all. GANs can do more. No wonder they are so powerful and in demand today!"
   ]
  },
  {
   "cell_type": "code",
   "execution_count": null,
   "id": "bbac6117",
   "metadata": {},
   "outputs": [],
   "source": []
  }
 ],
 "metadata": {
  "kernelspec": {
   "display_name": "Python 3",
   "language": "python",
   "name": "python3"
  },
  "language_info": {
   "codemirror_mode": {
    "name": "ipython",
    "version": 3
   },
   "file_extension": ".py",
   "mimetype": "text/x-python",
   "name": "python",
   "nbconvert_exporter": "python",
   "pygments_lexer": "ipython3",
   "version": "3.8.8"
  }
 },
 "nbformat": 4,
 "nbformat_minor": 5
}
