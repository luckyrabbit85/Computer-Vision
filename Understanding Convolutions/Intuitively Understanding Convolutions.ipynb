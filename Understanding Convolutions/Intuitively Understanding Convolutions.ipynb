{
 "cells": [
  {
   "cell_type": "markdown",
   "id": "dc60386b",
   "metadata": {},
   "source": [
    "# Intuitively Understanding Convolutions\n",
    "\n",
    "### Convolutional Neural Network\n",
    "\n",
    "Convolutional networks belong to a class of neural networks that take the image as an input, subjects it to combinations of weights and biases, extracts features and outputs the results. They tend to reduce the dimensions of the input image with the use of a kernel which makes it easier to extract features as compared to a generic Dense neural network. Convolutional networks trace their foundation to convolution operations on matrices.\n",
    "Convnets were inspired by biological processes in that the connectivity pattern between neurons resembles the organization of the animal visual cortex. Individual cortical neurons respond to stimuli only in a restricted region of the visual field known as the receptive field. The receptive fields of different neurons partially overlap such that they cover the entire visual field.\n",
    "\n",
    "![](./fig/cnn.png)\n",
    "\n",
    "The name \"***Convolutional neural network***\" indicates that the network employs a mathematical operation called ***Convolution***. Convolution is a specialized kind of linear operation. Convnets are simply neural networks that use convolution in place of general matrix multiplication in at least one of their layers.\n",
    "\n",
    "### **Kernels**  \n",
    "A kernel is a small 2D matrix whose contents are based upon the operations to be performed. A kernel maps on the input image by simple matrix multiplication and addition, the output obtained is of lower dimensions and therefore easier to work with.\n",
    "\n",
    "![](./fig/kertypes.png)\n",
    "\n",
    "The shape of a kernel is heavily dependent on the input shape of the image and architecture of the entire network, mostly the size of kernels is (MxM) i.e a square matrix. The movement of a kernel is always from left to right and top to bottom.\n",
    "\n",
    "### **Stride**  \n",
    "Stride defines by what step does to kernel move, for example stride of 1 makes kernel slide by one row/column at a time and stride of 2 moves kernel by 2 rows/columns.\n",
    "\n",
    "Below we see 3x3 kernels of a filter striding across 5x5 image with stride 1.\n",
    "\n",
    "![](./fig/rgb.gif)\n",
    "\n",
    "Output from each kernel is added to give one final ouput correspondiing to that filter.\n",
    "\n",
    "\n",
    "![](./fig/rgb2.gif)\n",
    "\n",
    "For input images with 3 or more channels such as RGB a *filter* is applied.\n",
    "\n",
    "\n",
    "### **Filters**  \n",
    "\n",
    "*Each filter actually happens to be a collection of kernels, with there being one kernel for every single input channel to the layer, and each kernel being unique.*\n",
    "\n",
    "Each filter in a convolution layer produces one and only one output channel, and they do it like so:\n",
    "Each of the kernels of the filter “slides” over their respective input channels, producing a processed version of each. Some kernels may have stronger weights than others, to give more emphasis to certain input channels than others (eg. a filter may have a red kernel channel with stronger weights than others, and hence, respond more to differences in the red channel features than the others).\n",
    "\n",
    "![](./fig/convo.gif)\n",
    "\n",
    "In the above image we can see we have an input image of 3 channels and a filter with 3 kernels which output a single channel.\n",
    "\n",
    "### **Pooling**\n",
    "\n",
    "The next step in convolutional network is downsampling this is done by **Pooling layer**. Below you can see 3x3 Maxpooling Layer.\n",
    "\n",
    "![](./fig/pooling_layer.gif)\n",
    "\n",
    "There are different types of pooling like Max pooling, Average pooling etc.\n",
    "\n",
    "![](./fig/max_pool_avg.png)\n",
    "\n",
    "### **Padding**\n",
    "\n",
    "Padding is done when we want the output size to be that of input. Padding applies zeros to top, bottom ,left and right of an image. \"same\" padding will pad the input such that the output will have size, \"valid\" mean without padding.\n",
    "\n",
    "![](./fig/same_padding.gif)"
   ]
  },
  {
   "cell_type": "code",
   "execution_count": null,
   "id": "899dda90",
   "metadata": {},
   "outputs": [],
   "source": []
  }
 ],
 "metadata": {
  "kernelspec": {
   "display_name": "Python 3",
   "language": "python",
   "name": "python3"
  },
  "language_info": {
   "codemirror_mode": {
    "name": "ipython",
    "version": 3
   },
   "file_extension": ".py",
   "mimetype": "text/x-python",
   "name": "python",
   "nbconvert_exporter": "python",
   "pygments_lexer": "ipython3",
   "version": "3.8.8"
  }
 },
 "nbformat": 4,
 "nbformat_minor": 5
}
